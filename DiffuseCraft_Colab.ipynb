{
  "nbformat": 4,
  "nbformat_minor": 0,
  "metadata": {
    "colab": {
      "provenance": [],
      "gpuType": "T4",
      "authorship_tag": "ABX9TyO9/erv7Gy5JjL8tTkGU2GB",
      "include_colab_link": true
    },
    "kernelspec": {
      "name": "python3",
      "display_name": "Python 3"
    },
    "language_info": {
      "name": "python"
    },
    "accelerator": "GPU"
  },
  "cells": [
    {
      "cell_type": "markdown",
      "metadata": {
        "id": "view-in-github",
        "colab_type": "text"
      },
      "source": [
        "<a href=\"https://colab.research.google.com/github/R3gm/DiffuseCraft/blob/main/DiffuseCraft_Colab.ipynb\" target=\"_parent\"><img src=\"https://colab.research.google.com/assets/colab-badge.svg\" alt=\"Open In Colab\"/></a>"
      ]
    },
    {
      "cell_type": "code",
      "execution_count": null,
      "metadata": {
        "cellView": "form",
        "id": "Upgktr5sf5b7"
      },
      "outputs": [],
      "source": [
        "# @title Run the `DiffuseCraft` App\n",
        "repo_base = \"https://github.com/R3gm/DiffuseCraft\"\n",
        "folder_base = \"app_DiffuseCraft\"\n",
        "conf_end = f\"/content/{folder_base}/.venv/complete.txt\"\n",
        "%env HF_HUB_ENABLE_HF_TRANSFER=1\n",
        "\n",
        "def config_complete() -> bool:\n",
        "    import os\n",
        "    return os.path.exists(conf_end)\n",
        "\n",
        "if not config_complete():\n",
        "    print(\"\\033[34mThe installation will take approximately 7 minutes.\\033[0m\")\n",
        "    %cd /content\n",
        "    !git clone {repo_base} {folder_base}\n",
        "    %cd {folder_base}\n",
        "    !xargs -r -a packages.txt apt install -y -q >/dev/null\n",
        "    !pip install uv==0.8.13 -q\n",
        "    !uv venv --python 3.10 --clear -q\n",
        "    !curl -sS https://bootstrap.pypa.io/get-pip.py -o get-pip.py\n",
        "    !uv run python get-pip.py pip==23.1.2 -q\n",
        "    !uv run python -m pip install -q -r pre-requirements.txt\n",
        "    !uv run python -m pip install -q torch==2.5.1 torchvision==0.20.1 torchaudio==2.5.1 --index-url https://download.pytorch.org/whl/cu124\n",
        "    !uv run python -m pip install -q -r requirements.txt && touch {conf_end}\n",
        "\n",
        "#@markdown **Civitai API Key** - (Optional) To `download models from Civitai`, you need to generate an API key in (https://civitai.com/user/account). You also require an account on Civitai for this process.\n",
        "CIVITAI_API_KEY = \"\" #@param {type:'string'}\n",
        "if CIVITAI_API_KEY:\n",
        "    %env CIVITAI_API_KEY={CIVITAI_API_KEY}\n",
        "#@markdown ---\n",
        "#@markdown **HF TOKEN** - (Optional) If you need to download your private model from Hugging Face, input your token here.\n",
        "HF_TOKEN = \"\" #@param {type:'string'}\n",
        "if HF_TOKEN:\n",
        "    %env HF_TOKEN={HF_TOKEN}\n",
        "    %env HF_READ_TOKEN={HF_READ_TOKEN}\n",
        "#@markdown ---\n",
        "Server_Side_Rendering = False #@param {type:\"boolean\"}\n",
        "ssr = '--ssr' if Server_Side_Rendering else ''\n",
        "Theme = \"NoCrypt/miku\" #@param {type:\"string\"}\n",
        "Verbosity_level = \"INFO\"        #@param [\"DEBUG\", \"INFO\", \"WARNING\", \"ERROR\", \"CRITICAL\"]\n",
        "\n",
        "%cd /content/{folder_base}\n",
        "!uv run python app.py --share --theme {Theme} --log-level {Verbosity_level} {ssr}"
      ]
    },
    {
      "cell_type": "markdown",
      "source": [
        "Open the `public URL` when it appears"
      ],
      "metadata": {
        "id": "lNkZgaRegRRk"
      }
    }
  ]
}